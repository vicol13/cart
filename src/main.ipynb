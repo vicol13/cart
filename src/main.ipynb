{
 "cells": [
  {
   "cell_type": "code",
   "execution_count": null,
   "metadata": {},
   "outputs": [],
   "source": []
  },
  {
   "cell_type": "code",
   "execution_count": 1,
   "metadata": {},
   "outputs": [],
   "source": [
    "import numpy as np\n",
    "import pandas as pd\n",
    "# from node import Node\n",
    "from sklearn.model_selection import train_test_split\n",
    "from sklearn.metrics import accuracy_score\n",
    "from itertools import combinations\n",
    "\n",
    "from numbers import Number\n",
    "from typing import Tuple\n",
    "from classifiers.classification_tree import ClassificationTree\n",
    "from classifiers.decision_forest import DecisionForest"
   ]
  },
  {
   "cell_type": "code",
   "execution_count": 2,
   "metadata": {},
   "outputs": [],
   "source": [
    "import random\n"
   ]
  },
  {
   "cell_type": "code",
   "execution_count": 3,
   "metadata": {},
   "outputs": [],
   "source": [
    "df = pd.read_csv('/Users/vicol/Desktop/UPC/sel/lab2/data/breast-cancer.csv')\n",
    "x_train, x_test =  train_test_split(df, test_size=0.33, random_state=42)\n",
    "x_tr = x_train.iloc[:, :-1].values\n",
    "y_tr = x_train.iloc[:, -1].values.reshape(-1,1)\n",
    "x_te = x_test.iloc[:, :-1].values\n",
    "y_te = x_test.iloc[:, -1].values.reshape(-1,1)\n",
    "# x_train, x_test, y_train, y_test = train_test_split(x, y, test_size=0.33, random_state=42)"
   ]
  },
  {
   "cell_type": "code",
   "execution_count": 4,
   "metadata": {},
   "outputs": [],
   "source": [
    "tree = ClassificationTree(min_samples_split=5,max_depth=10)"
   ]
  },
  {
   "cell_type": "code",
   "execution_count": 5,
   "metadata": {},
   "outputs": [],
   "source": [
    "tree.fit(x_tr,y_tr)"
   ]
  },
  {
   "cell_type": "code",
   "execution_count": 6,
   "metadata": {},
   "outputs": [
    {
     "name": "stdout",
     "output_type": "stream",
     "text": [
      "0.9893162393162394\n",
      "0.9393939393939394\n"
     ]
    }
   ],
   "source": [
    "print(accuracy_score(tree.predict(x_tr),y_tr))\n",
    "print(accuracy_score(tree.predict(x_te),y_te))"
   ]
  },
  {
   "cell_type": "code",
   "execution_count": 7,
   "metadata": {},
   "outputs": [
    {
     "data": {
      "text/plain": [
       "{4: 3, 5: 8, 0: 3, 2: 3, 6: 4, 3: 1}"
      ]
     },
     "execution_count": 7,
     "metadata": {},
     "output_type": "execute_result"
    }
   ],
   "source": [
    "tree.feature_importance()"
   ]
  },
  {
   "cell_type": "markdown",
   "metadata": {},
   "source": [
    "## Decision Forest"
   ]
  },
  {
   "cell_type": "code",
   "execution_count": 9,
   "metadata": {},
   "outputs": [],
   "source": [
    "decision_forest = DecisionForest(1,1)"
   ]
  },
  {
   "cell_type": "code",
   "execution_count": 16,
   "metadata": {},
   "outputs": [],
   "source": [
    "decision_forest.fit(x_train)"
   ]
  },
  {
   "cell_type": "code",
   "execution_count": 17,
   "metadata": {},
   "outputs": [
    {
     "name": "stdout",
     "output_type": "stream",
     "text": [
      "0.9551282051282052\n",
      "0.9393939393939394\n"
     ]
    }
   ],
   "source": [
    "print(accuracy_score(decision_forest.predict(x_tr),y_tr))\n",
    "print(accuracy_score(decision_forest.predict(x_te),y_te))"
   ]
  },
  {
   "cell_type": "code",
   "execution_count": 11,
   "metadata": {},
   "outputs": [
    {
     "data": {
      "text/plain": [
       "{'Ash': 0.26666666666666666,\n",
       " 'Malic.acid': 0.35,\n",
       " 'Alcohol': 0.38333333333333336}"
      ]
     },
     "execution_count": 11,
     "metadata": {},
     "output_type": "execute_result"
    }
   ],
   "source": [
    "decision_forest.features_importance()"
   ]
  },
  {
   "cell_type": "code",
   "execution_count": 12,
   "metadata": {},
   "outputs": [],
   "source": [
    "from classifiers.random_forest import RandomForest\n",
    "random_forest = RandomForest(5,5)"
   ]
  },
  {
   "cell_type": "code",
   "execution_count": 19,
   "metadata": {},
   "outputs": [],
   "source": [
    "random_forest.fit(x_train)"
   ]
  },
  {
   "cell_type": "code",
   "execution_count": 28,
   "metadata": {},
   "outputs": [
    {
     "name": "stdout",
     "output_type": "stream",
     "text": [
      "1.0\n",
      "0.9491525423728814\n"
     ]
    }
   ],
   "source": [
    "print(accuracy_score(random_forest.predict(x_tr),y_tr))\n",
    "print(accuracy_score(random_forest.predict(x_te),y_te))"
   ]
  },
  {
   "cell_type": "code",
   "execution_count": 29,
   "metadata": {},
   "outputs": [
    {
     "data": {
      "text/plain": [
       "{'Alcohol': 0.3116883116883117,\n",
       " 'Ash': 0.18831168831168832,\n",
       " 'Acl': 0.14285714285714285,\n",
       " 'Malic.acid': 0.21428571428571427,\n",
       " 'Mg': 0.14285714285714285}"
      ]
     },
     "execution_count": 29,
     "metadata": {},
     "output_type": "execute_result"
    }
   ],
   "source": [
    "random_forest.features_importance()"
   ]
  },
  {
   "cell_type": "code",
   "execution_count": 26,
   "metadata": {},
   "outputs": [
    {
     "data": {
      "text/plain": [
       "array(['e', 'b', 'a'], dtype='<U1')"
      ]
     },
     "execution_count": 26,
     "metadata": {},
     "output_type": "execute_result"
    }
   ],
   "source": [
    "np.random.permutation(['a','b','e'])"
   ]
  }
 ],
 "metadata": {
  "interpreter": {
   "hash": "acba5f57bd75e037ca172a42e33540c2748e733f312c4b4ab2361595a6218d05"
  },
  "kernelspec": {
   "display_name": "Python 3.8.9 ('venv': venv)",
   "language": "python",
   "name": "python3"
  },
  "language_info": {
   "codemirror_mode": {
    "name": "ipython",
    "version": 3
   },
   "file_extension": ".py",
   "mimetype": "text/x-python",
   "name": "python",
   "nbconvert_exporter": "python",
   "pygments_lexer": "ipython3",
   "version": "3.8.9"
  },
  "orig_nbformat": 4
 },
 "nbformat": 4,
 "nbformat_minor": 2
}
